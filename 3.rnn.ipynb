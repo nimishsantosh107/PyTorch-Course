{
 "cells": [
  {
   "cell_type": "code",
   "execution_count": 1,
   "metadata": {},
   "outputs": [],
   "source": [
    "import numpy as np\n",
    "import pandas as pd\n",
    "import matplotlib.pyplot as plt\n",
    "from tqdm.notebook import tqdm\n",
    "\n",
    "import torch as T\n",
    "import torch.nn as nn\n",
    "import torch.optim as optim\n",
    "import torch.functional as F\n",
    "\n",
    "from sklearn.preprocessing import MinMaxScaler\n",
    "\n",
    "%matplotlib inline"
   ]
  },
  {
   "cell_type": "markdown",
   "metadata": {},
   "source": [
    "## Dataset"
   ]
  },
  {
   "cell_type": "code",
   "execution_count": 2,
   "metadata": {},
   "outputs": [
    {
     "data": {
      "text/html": [
       "<div>\n",
       "<style scoped>\n",
       "    .dataframe tbody tr th:only-of-type {\n",
       "        vertical-align: middle;\n",
       "    }\n",
       "\n",
       "    .dataframe tbody tr th {\n",
       "        vertical-align: top;\n",
       "    }\n",
       "\n",
       "    .dataframe thead th {\n",
       "        text-align: right;\n",
       "    }\n",
       "</style>\n",
       "<table border=\"1\" class=\"dataframe\">\n",
       "  <thead>\n",
       "    <tr style=\"text-align: right;\">\n",
       "      <th></th>\n",
       "      <th>Date</th>\n",
       "      <th>Open</th>\n",
       "      <th>High</th>\n",
       "      <th>Low</th>\n",
       "      <th>Close</th>\n",
       "      <th>Volume</th>\n",
       "      <th>Name</th>\n",
       "    </tr>\n",
       "  </thead>\n",
       "  <tbody>\n",
       "    <tr>\n",
       "      <th>0</th>\n",
       "      <td>2006-01-03</td>\n",
       "      <td>47.47</td>\n",
       "      <td>47.85</td>\n",
       "      <td>46.25</td>\n",
       "      <td>47.58</td>\n",
       "      <td>7582127</td>\n",
       "      <td>AMZN</td>\n",
       "    </tr>\n",
       "    <tr>\n",
       "      <th>1</th>\n",
       "      <td>2006-01-04</td>\n",
       "      <td>47.48</td>\n",
       "      <td>47.73</td>\n",
       "      <td>46.69</td>\n",
       "      <td>47.25</td>\n",
       "      <td>7440914</td>\n",
       "      <td>AMZN</td>\n",
       "    </tr>\n",
       "    <tr>\n",
       "      <th>2</th>\n",
       "      <td>2006-01-05</td>\n",
       "      <td>47.16</td>\n",
       "      <td>48.20</td>\n",
       "      <td>47.11</td>\n",
       "      <td>47.65</td>\n",
       "      <td>5417258</td>\n",
       "      <td>AMZN</td>\n",
       "    </tr>\n",
       "    <tr>\n",
       "      <th>3</th>\n",
       "      <td>2006-01-06</td>\n",
       "      <td>47.97</td>\n",
       "      <td>48.58</td>\n",
       "      <td>47.32</td>\n",
       "      <td>47.87</td>\n",
       "      <td>6154285</td>\n",
       "      <td>AMZN</td>\n",
       "    </tr>\n",
       "    <tr>\n",
       "      <th>4</th>\n",
       "      <td>2006-01-09</td>\n",
       "      <td>46.55</td>\n",
       "      <td>47.10</td>\n",
       "      <td>46.40</td>\n",
       "      <td>47.08</td>\n",
       "      <td>8945056</td>\n",
       "      <td>AMZN</td>\n",
       "    </tr>\n",
       "  </tbody>\n",
       "</table>\n",
       "</div>"
      ],
      "text/plain": [
       "         Date   Open   High    Low  Close   Volume  Name\n",
       "0  2006-01-03  47.47  47.85  46.25  47.58  7582127  AMZN\n",
       "1  2006-01-04  47.48  47.73  46.69  47.25  7440914  AMZN\n",
       "2  2006-01-05  47.16  48.20  47.11  47.65  5417258  AMZN\n",
       "3  2006-01-06  47.97  48.58  47.32  47.87  6154285  AMZN\n",
       "4  2006-01-09  46.55  47.10  46.40  47.08  8945056  AMZN"
      ]
     },
     "execution_count": 2,
     "metadata": {},
     "output_type": "execute_result"
    }
   ],
   "source": [
    "df = pd.read_csv('./data/AMZN.csv')\n",
    "df.head()"
   ]
  },
  {
   "cell_type": "code",
   "execution_count": 3,
   "metadata": {},
   "outputs": [
    {
     "data": {
      "text/plain": [
       "array([  47.58,   47.25,   47.65, ..., 1182.26, 1186.1 , 1169.47])"
      ]
     },
     "metadata": {},
     "output_type": "display_data"
    },
    {
     "name": "stdout",
     "output_type": "stream",
     "text": [
      "SHAPE:  (3019,)\n"
     ]
    },
    {
     "data": {
      "image/png": "[encoded data removed]",
      "text/plain": [
       "<Figure size 432x288 with 1 Axes>"
      ]
     },
     "metadata": {
      "needs_background": "light"
     },
     "output_type": "display_data"
    }
   ],
   "source": [
    "prices = df['Close'].values\n",
    "\n",
    "display(prices)\n",
    "print(\"SHAPE: \",prices.shape)\n",
    "plt.plot(prices)\n",
    "plt.show()"
   ]
  },
  {
   "cell_type": "markdown",
   "metadata": {},
   "source": [
    "# LSTM & GRU Parameters & Data Flow\n",
    "\n",
    "- LSTM & GRU params:\n",
    "    1. `seq_length` - *[NOT PART OF LSTM/GRU] - length of a single sequence of inputs*\n",
    "    2. `n_features` - *Number of features/variables in single input*\n",
    "    3. `n_hidden`   - *Number of hidden nodes in a single LSTM/GRU layer*\n",
    "    4. `n_layers`   - *Number of stacked LSTM/GRU layers*\n",
    "\n",
    "- Data Flow Protocol:\n",
    "    1. `network input shape` - (batch_size, seq_length, n_features)\n",
    "    2. `LSTM output shape`   - (batch_size, seq_length, n_hidden)\n",
    "    3. `Linear input shape`  - (batch_size * seq_length, n_hidden)\n",
    "    4. `Linear output`       - (batch_size * seq_length, out_size)"
   ]
  },
  {
   "cell_type": "code",
   "execution_count": 4,
   "metadata": {},
   "outputs": [],
   "source": [
    "class Parameters:\n",
    "    SEQ_LENGTH = 20\n",
    "    N_FEATURES = 1    # using only 1 column\n",
    "    N_HIDDEN = 32\n",
    "    N_LAYERS = 2\n",
    "    OUT_SIZE = 1\n",
    "    BATCH_SIZE = None # unused\n",
    "    NUM_EPOCHS = 100"
   ]
  },
  {
   "cell_type": "markdown",
   "metadata": {},
   "source": [
    "## Preprocess Data"
   ]
  },
  {
   "cell_type": "code",
   "execution_count": 5,
   "metadata": {},
   "outputs": [],
   "source": [
    "#data preprocess\n",
    "def split_data(data_raw, seq_len):\n",
    "    '''\n",
    "    data_raw - (np array) shape - (num_samples, n_features)\n",
    "    seq_len - (int) sequence length [20]\n",
    "    '''\n",
    "    data = []\n",
    "    \n",
    "    # create all possible sequences of length seq_len(lookback)\n",
    "    for index in range(len(data_raw) - seq_len): \n",
    "        data.append(data_raw[index: index + seq_len])\n",
    "    \n",
    "    data = np.array(data);\n",
    "    test_set_size = int(np.round(0.2*data.shape[0]));\n",
    "    train_set_size = data.shape[0] - (test_set_size);\n",
    "    \n",
    "    x_train = data[:train_set_size,:-1,:]\n",
    "    y_train = data[:train_set_size,-1,:]\n",
    "    \n",
    "    x_test = data[train_set_size:,:-1]\n",
    "    y_test = data[train_set_size:,-1,:]\n",
    "    \n",
    "    return (x_train, y_train, x_test, y_test)"
   ]
  },
  {
   "cell_type": "code",
   "execution_count": 6,
   "metadata": {},
   "outputs": [
    {
     "name": "stdout",
     "output_type": "stream",
     "text": [
      "DATA SHAPE:  (3019, 1)\n",
      "X_TRAIN:  (2399, 19, 1)\n",
      "Y_TRAIN:  (2399, 1)\n",
      "X_TEST :  (600, 19, 1)\n",
      "Y_TEST :  (600, 1)\n"
     ]
    }
   ],
   "source": [
    "# SCALE FROM -1 to 1 FOR SCALED LOSSES\n",
    "scaler = MinMaxScaler(feature_range=(-1, 1))\n",
    "prices = scaler.fit_transform(np.expand_dims(prices, axis=1)).reshape(-1)\n",
    "\n",
    "# CREATE TRAIN & TEST SET\n",
    "prices = np.expand_dims(prices, axis=1) #NUM_FEATURES = 1(single column), EXPECTED SHAPE: (num_samples, num_features) [(3019,) -> (3019,1)]\n",
    "print(\"DATA SHAPE: \", prices.shape)\n",
    "\n",
    "x_train, y_train, x_test, y_test = split_data(data_raw = prices,\n",
    "                                              seq_len = Parameters.SEQ_LENGTH)\n",
    "print(\"X_TRAIN: \", x_train.shape)\n",
    "print(\"Y_TRAIN: \", y_train.shape)\n",
    "print(\"X_TEST : \", x_test.shape)\n",
    "print(\"Y_TEST : \", y_test.shape)"
   ]
  },
  {
   "cell_type": "code",
   "execution_count": 7,
   "metadata": {},
   "outputs": [],
   "source": [
    "#TO TENSORS\n",
    "x_train = T.tensor(x_train, dtype=T.float32)\n",
    "y_train = T.tensor(y_train, dtype=T.float32)\n",
    "x_test = T.tensor(x_test, dtype=T.float32)\n",
    "y_test = T.tensor(y_test, dtype=T.float32)"
   ]
  },
  {
   "cell_type": "markdown",
   "metadata": {},
   "source": [
    "## LSTM Network"
   ]
  },
  {
   "cell_type": "code",
   "execution_count": 8,
   "metadata": {},
   "outputs": [],
   "source": [
    "class LSTM(nn.Module):\n",
    "    def __init__(self, n_features, n_hidden, n_layers, out_size):\n",
    "        super().__init__()\n",
    "        self.n_features = n_features\n",
    "        self.n_hidden = n_hidden\n",
    "        self.n_layers = n_layers\n",
    "        self.out_size = out_size\n",
    "        # LAYERS\n",
    "        self.lstm = nn.LSTM(n_features, n_hidden, n_layers, batch_first=True)\n",
    "        self.fc = nn.Linear(n_hidden, out_size)\n",
    "        # UTILS\n",
    "        self.optimizer = optim.Adam(self.parameters(), lr=0.01)\n",
    "        self.loss = nn.MSELoss()\n",
    "        \n",
    "    def forward(self, t):\n",
    "        h0 = T.zeros(self.n_layers, t.size(0), self.n_hidden).requires_grad_()\n",
    "        c0 = T.zeros(self.n_layers, t.size(0), self.n_hidden).requires_grad_()\n",
    "        # FWD PROP\n",
    "        t, (hn, cn) = self.lstm(t, (h0.detach(), c0.detach()))\n",
    "        out = self.fc(t[:,-1,:])\n",
    "        return out"
   ]
  },
  {
   "cell_type": "code",
   "execution_count": 9,
   "metadata": {},
   "outputs": [],
   "source": [
    "#NETWORK\n",
    "model = LSTM(n_features=Parameters.N_FEATURES,\n",
    "             n_hidden=Parameters.N_HIDDEN,\n",
    "             n_layers=Parameters.N_LAYERS,\n",
    "             out_size=Parameters.OUT_SIZE)"
   ]
  },
  {
   "cell_type": "code",
   "execution_count": 10,
   "metadata": {},
   "outputs": [
    {
     "data": {
      "application/vnd.jupyter.widget-view+json": {
       "model_id": "d4e7964d25cb4e5b9b69b123724ac4fb",
       "version_major": 2,
       "version_minor": 0
      },
      "text/plain": [
       "HBox(children=(HTML(value=''), FloatProgress(value=0.0), HTML(value='')))"
      ]
     },
     "metadata": {},
     "output_type": "display_data"
    },
    {
     "name": "stdout",
     "output_type": "stream",
     "text": [
      "EPOCH: 0  LOSS: 0.3994198739528656\n",
      "EPOCH: 5  LOSS: 0.043228354305028915\n",
      "EPOCH: 10  LOSS: 0.04917304590344429\n",
      "EPOCH: 15  LOSS: 0.0401153601706028\n",
      "EPOCH: 20  LOSS: 0.031463392078876495\n",
      "EPOCH: 25  LOSS: 0.032215047627687454\n",
      "EPOCH: 30  LOSS: 0.02703743614256382\n",
      "EPOCH: 35  LOSS: 0.018986618146300316\n",
      "EPOCH: 40  LOSS: 0.005717363208532333\n",
      "EPOCH: 45  LOSS: 0.0039036220405250788\n",
      "EPOCH: 50  LOSS: 0.0020991023629903793\n",
      "EPOCH: 55  LOSS: 0.001668083481490612\n",
      "EPOCH: 60  LOSS: 0.0006266005802899599\n",
      "EPOCH: 65  LOSS: 0.0009527470683678985\n",
      "EPOCH: 70  LOSS: 0.00043303094571456313\n",
      "EPOCH: 75  LOSS: 0.0004808834055438638\n",
      "EPOCH: 80  LOSS: 0.0003385466698091477\n",
      "EPOCH: 85  LOSS: 0.00036770504084415734\n",
      "EPOCH: 90  LOSS: 0.00029282530886121094\n",
      "EPOCH: 95  LOSS: 0.0002997791743837297\n",
      "\n"
     ]
    }
   ],
   "source": [
    "# TRAINING\n",
    "losses = []\n",
    "\n",
    "for epoch_n in tqdm(range(Parameters.NUM_EPOCHS)):\n",
    "    y_pred = model(x_train)\n",
    "    \n",
    "    loss = model.loss(y_pred, y_train)\n",
    "    model.optimizer.zero_grad()\n",
    "    loss.backward()\n",
    "    model.optimizer.step()\n",
    "    \n",
    "    if(epoch_n%5 == 0):\n",
    "        print(f\"EPOCH: {epoch_n}  LOSS: {loss.item()}\")\n",
    "    losses.append(loss.item())"
   ]
  },
  {
   "cell_type": "markdown",
   "metadata": {},
   "source": [
    "## Evaluate LSTM"
   ]
  },
  {
   "cell_type": "code",
   "execution_count": 11,
   "metadata": {},
   "outputs": [
    {
     "data": {
      "text/plain": [
       "[<matplotlib.lines.Line2D at 0x10f41d2e0>]"
      ]
     },
     "execution_count": 11,
     "metadata": {},
     "output_type": "execute_result"
    },
    {
     "data": {
      "image/png": "[encoded data removed]",
      "text/plain": [
       "<Figure size 432x288 with 1 Axes>"
      ]
     },
     "metadata": {
      "needs_background": "light"
     },
     "output_type": "display_data"
    }
   ],
   "source": [
    "# LOSS CURVE\n",
    "plt.plot(losses)"
   ]
  },
  {
   "cell_type": "code",
   "execution_count": 12,
   "metadata": {},
   "outputs": [
    {
     "data": {
      "text/plain": [
       "[<matplotlib.lines.Line2D at 0x13a886610>]"
      ]
     },
     "execution_count": 12,
     "metadata": {},
     "output_type": "execute_result"
    },
    {
     "data": {
      "image/png": "[encoded data removed]",
      "text/plain": [
       "<Figure size 432x288 with 1 Axes>"
      ]
     },
     "metadata": {
      "needs_background": "light"
     },
     "output_type": "display_data"
    }
   ],
   "source": [
    "# TRAIN SET PREDS\n",
    "y_pred = model(x_train)\n",
    "\n",
    "plt.plot(y_train)         # true        \n",
    "plt.plot(y_pred.detach()) # pred"
   ]
  },
  {
   "cell_type": "code",
   "execution_count": 14,
   "metadata": {},
   "outputs": [
    {
     "data": {
      "text/plain": [
       "[<matplotlib.lines.Line2D at 0x13a85f4f0>]"
      ]
     },
     "execution_count": 14,
     "metadata": {},
     "output_type": "execute_result"
    },
    {
     "data": {
      "image/png": "[encoded data removed]",
      "text/plain": [
       "<Figure size 432x288 with 1 Axes>"
      ]
     },
     "metadata": {
      "needs_background": "light"
     },
     "output_type": "display_data"
    }
   ],
   "source": [
    "# GET TEST SET PREDS\n",
    "\n",
    "y_pred = model(x_test)\n",
    "\n",
    "plt.plot(y_test)          # true\n",
    "plt.plot(y_pred.detach()) # pred"
   ]
  },
  {
   "cell_type": "markdown",
   "metadata": {},
   "source": [
    "## GRU Network"
   ]
  },
  {
   "cell_type": "code",
   "execution_count": 15,
   "metadata": {},
   "outputs": [],
   "source": [
    "class GRU(nn.Module):\n",
    "    def __init__(self, n_features, n_hidden, n_layers, out_size):\n",
    "        super().__init__()\n",
    "        self.n_features = n_features\n",
    "        self.n_hidden = n_hidden\n",
    "        self.n_layers = n_layers\n",
    "        self.out_size = out_size\n",
    "        # LAYERS\n",
    "        self.gru = nn.GRU(n_features, n_hidden, n_layers, batch_first=True)\n",
    "        self.fc = nn.Linear(n_hidden, out_size)\n",
    "        # UTILS\n",
    "        self.optimizer = optim.Adam(self.parameters(), lr=0.01)\n",
    "        self.loss = nn.MSELoss()\n",
    "        \n",
    "    def forward(self, t):\n",
    "        h0 = T.zeros(self.n_layers, t.size(0), self.n_hidden).requires_grad_()\n",
    "        # FWD PROP\n",
    "        t, (hn) = self.gru(t, (h0.detach()))\n",
    "        out = self.fc(t[:,-1,:])\n",
    "        return out"
   ]
  },
  {
   "cell_type": "code",
   "execution_count": 16,
   "metadata": {},
   "outputs": [],
   "source": [
    "#NETWORK\n",
    "model = GRU(n_features=Parameters.N_FEATURES,\n",
    "            n_hidden=Parameters.N_HIDDEN,\n",
    "            n_layers=Parameters.N_LAYERS,\n",
    "            out_size=Parameters.OUT_SIZE)"
   ]
  },
  {
   "cell_type": "code",
   "execution_count": 17,
   "metadata": {},
   "outputs": [
    {
     "data": {
      "application/vnd.jupyter.widget-view+json": {
       "model_id": "7f5c320c2dda4aabada2ad9ee335bf27",
       "version_major": 2,
       "version_minor": 0
      },
      "text/plain": [
       "HBox(children=(HTML(value=''), FloatProgress(value=0.0), HTML(value='')))"
      ]
     },
     "metadata": {},
     "output_type": "display_data"
    },
    {
     "name": "stdout",
     "output_type": "stream",
     "text": [
      "EPOCH: 0  LOSS: 0.5725619792938232\n",
      "EPOCH: 5  LOSS: 0.026372745633125305\n",
      "EPOCH: 10  LOSS: 0.029836660251021385\n",
      "EPOCH: 15  LOSS: 0.02829795889556408\n",
      "EPOCH: 20  LOSS: 0.02546306699514389\n",
      "EPOCH: 25  LOSS: 0.013853787444531918\n",
      "EPOCH: 30  LOSS: 0.006436438299715519\n",
      "EPOCH: 35  LOSS: 0.0014872632455080748\n",
      "EPOCH: 40  LOSS: 0.001191148185171187\n",
      "EPOCH: 45  LOSS: 0.0021249421406537294\n",
      "EPOCH: 50  LOSS: 0.00045171842793934047\n",
      "EPOCH: 55  LOSS: 0.0003765291767194867\n",
      "EPOCH: 60  LOSS: 0.0003266755666118115\n",
      "EPOCH: 65  LOSS: 0.00020787818357348442\n",
      "EPOCH: 70  LOSS: 0.00023441483790520579\n",
      "EPOCH: 75  LOSS: 0.0001944779505720362\n",
      "EPOCH: 80  LOSS: 0.0001245740568265319\n",
      "EPOCH: 85  LOSS: 0.00013565961853601038\n",
      "EPOCH: 90  LOSS: 0.0001337374997092411\n",
      "EPOCH: 95  LOSS: 0.00011354836169630289\n",
      "\n"
     ]
    }
   ],
   "source": [
    "# TRAINING\n",
    "losses = []\n",
    "\n",
    "for epoch_n in tqdm(range(Parameters.NUM_EPOCHS)):\n",
    "    y_pred = model(x_train)\n",
    "    \n",
    "    loss = model.loss(y_pred, y_train)\n",
    "    model.optimizer.zero_grad()\n",
    "    loss.backward()\n",
    "    model.optimizer.step()\n",
    "    \n",
    "    if(epoch_n%5 == 0):\n",
    "        print(f\"EPOCH: {epoch_n}  LOSS: {loss.item()}\")\n",
    "    losses.append(loss.item())"
   ]
  },
  {
   "cell_type": "markdown",
   "metadata": {},
   "source": [
    "## Evaluate GRU"
   ]
  },
  {
   "cell_type": "code",
   "execution_count": 18,
   "metadata": {},
   "outputs": [
    {
     "data": {
      "text/plain": [
       "[<matplotlib.lines.Line2D at 0x10f473070>]"
      ]
     },
     "execution_count": 18,
     "metadata": {},
     "output_type": "execute_result"
    },
    {
     "data": {
      "image/png": "[encoded data removed]",
      "text/plain": [
       "<Figure size 432x288 with 1 Axes>"
      ]
     },
     "metadata": {
      "needs_background": "light"
     },
     "output_type": "display_data"
    }
   ],
   "source": [
    "# LOSS CURVE\n",
    "plt.plot(losses)"
   ]
  },
  {
   "cell_type": "code",
   "execution_count": 19,
   "metadata": {},
   "outputs": [
    {
     "data": {
      "text/plain": [
       "[<matplotlib.lines.Line2D at 0x13e9b0280>]"
      ]
     },
     "execution_count": 19,
     "metadata": {},
     "output_type": "execute_result"
    },
    {
     "data": {
      "image/png": "[encoded data removed]",
      "text/plain": [
       "<Figure size 432x288 with 1 Axes>"
      ]
     },
     "metadata": {
      "needs_background": "light"
     },
     "output_type": "display_data"
    }
   ],
   "source": [
    "# TRAIN SET PREDS\n",
    "y_pred = model(x_train)\n",
    "\n",
    "plt.plot(y_train)         # true        \n",
    "plt.plot(y_pred.detach()) # pred"
   ]
  },
  {
   "cell_type": "code",
   "execution_count": 20,
   "metadata": {},
   "outputs": [
    {
     "data": {
      "text/plain": [
       "[<matplotlib.lines.Line2D at 0x13e9feac0>]"
      ]
     },
     "execution_count": 20,
     "metadata": {},
     "output_type": "execute_result"
    },
    {
     "data": {
      "image/png": "[encoded data removed]",
      "text/plain": [
       "<Figure size 432x288 with 1 Axes>"
      ]
     },
     "metadata": {
      "needs_background": "light"
     },
     "output_type": "display_data"
    }
   ],
   "source": [
    "# GET TEST SET PREDS\n",
    "\n",
    "y_pred = model(x_test)\n",
    "\n",
    "plt.plot(y_test)          # true\n",
    "plt.plot(y_pred.detach()) # pred"
   ]
  }
 ],
 "metadata": {
  "kernelspec": {
   "display_name": "base",
   "language": "python",
   "name": "python3"
  },
  "language_info": {
   "codemirror_mode": {
    "name": "ipython",
    "version": 3
   },
   "file_extension": ".py",
   "mimetype": "text/x-python",
   "name": "python",
   "nbconvert_exporter": "python",
   "pygments_lexer": "ipython3",
   "version": "3.8.5"
  }
 },
 "nbformat": 4,
 "nbformat_minor": 4
}
